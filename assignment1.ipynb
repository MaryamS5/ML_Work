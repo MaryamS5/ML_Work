{
  "nbformat": 4,
  "nbformat_minor": 0,
  "metadata": {
    "colab": {
      "provenance": [],
      "mount_file_id": "1cZgsTXghcW_HAiU4yhXOlJLtt0gb8pQa",
      "authorship_tag": "ABX9TyMgNBuyvj681Ep2FyIbcD57",
      "include_colab_link": true
    },
    "kernelspec": {
      "name": "python3",
      "display_name": "Python 3"
    },
    "language_info": {
      "name": "python"
    }
  },
  "cells": [
    {
      "cell_type": "markdown",
      "metadata": {
        "id": "view-in-github",
        "colab_type": "text"
      },
      "source": [
        "<a href=\"https://colab.research.google.com/github/MaryamS5/ML_Work/blob/main/assignment1.ipynb\" target=\"_parent\"><img src=\"https://colab.research.google.com/assets/colab-badge.svg\" alt=\"Open In Colab\"/></a>"
      ]
    },
    {
      "cell_type": "code",
      "execution_count": 1,
      "metadata": {
        "colab": {
          "base_uri": "https://localhost:8080/"
        },
        "id": "BuJuNDy5DZ5b",
        "outputId": "b8ca34b3-4bd1-4419-c90f-aee27d173d48"
      },
      "outputs": [
        {
          "output_type": "stream",
          "name": "stdout",
          "text": [
            "Requirement already satisfied: pandas in /usr/local/lib/python3.10/dist-packages (2.1.4)\n",
            "Requirement already satisfied: numpy<2,>=1.22.4 in /usr/local/lib/python3.10/dist-packages (from pandas) (1.26.4)\n",
            "Requirement already satisfied: python-dateutil>=2.8.2 in /usr/local/lib/python3.10/dist-packages (from pandas) (2.8.2)\n",
            "Requirement already satisfied: pytz>=2020.1 in /usr/local/lib/python3.10/dist-packages (from pandas) (2024.2)\n",
            "Requirement already satisfied: tzdata>=2022.1 in /usr/local/lib/python3.10/dist-packages (from pandas) (2024.1)\n",
            "Requirement already satisfied: six>=1.5 in /usr/local/lib/python3.10/dist-packages (from python-dateutil>=2.8.2->pandas) (1.16.0)\n",
            "Requirement already satisfied: numpy in /usr/local/lib/python3.10/dist-packages (1.26.4)\n",
            "Requirement already satisfied: matplotlib in /usr/local/lib/python3.10/dist-packages (3.7.1)\n",
            "Requirement already satisfied: contourpy>=1.0.1 in /usr/local/lib/python3.10/dist-packages (from matplotlib) (1.3.0)\n",
            "Requirement already satisfied: cycler>=0.10 in /usr/local/lib/python3.10/dist-packages (from matplotlib) (0.12.1)\n",
            "Requirement already satisfied: fonttools>=4.22.0 in /usr/local/lib/python3.10/dist-packages (from matplotlib) (4.53.1)\n",
            "Requirement already satisfied: kiwisolver>=1.0.1 in /usr/local/lib/python3.10/dist-packages (from matplotlib) (1.4.7)\n",
            "Requirement already satisfied: numpy>=1.20 in /usr/local/lib/python3.10/dist-packages (from matplotlib) (1.26.4)\n",
            "Requirement already satisfied: packaging>=20.0 in /usr/local/lib/python3.10/dist-packages (from matplotlib) (24.1)\n",
            "Requirement already satisfied: pillow>=6.2.0 in /usr/local/lib/python3.10/dist-packages (from matplotlib) (9.4.0)\n",
            "Requirement already satisfied: pyparsing>=2.3.1 in /usr/local/lib/python3.10/dist-packages (from matplotlib) (3.1.4)\n",
            "Requirement already satisfied: python-dateutil>=2.7 in /usr/local/lib/python3.10/dist-packages (from matplotlib) (2.8.2)\n",
            "Requirement already satisfied: six>=1.5 in /usr/local/lib/python3.10/dist-packages (from python-dateutil>=2.7->matplotlib) (1.16.0)\n",
            "Requirement already satisfied: seaborn in /usr/local/lib/python3.10/dist-packages (0.13.1)\n",
            "Requirement already satisfied: numpy!=1.24.0,>=1.20 in /usr/local/lib/python3.10/dist-packages (from seaborn) (1.26.4)\n",
            "Requirement already satisfied: pandas>=1.2 in /usr/local/lib/python3.10/dist-packages (from seaborn) (2.1.4)\n",
            "Requirement already satisfied: matplotlib!=3.6.1,>=3.4 in /usr/local/lib/python3.10/dist-packages (from seaborn) (3.7.1)\n",
            "Requirement already satisfied: contourpy>=1.0.1 in /usr/local/lib/python3.10/dist-packages (from matplotlib!=3.6.1,>=3.4->seaborn) (1.3.0)\n",
            "Requirement already satisfied: cycler>=0.10 in /usr/local/lib/python3.10/dist-packages (from matplotlib!=3.6.1,>=3.4->seaborn) (0.12.1)\n",
            "Requirement already satisfied: fonttools>=4.22.0 in /usr/local/lib/python3.10/dist-packages (from matplotlib!=3.6.1,>=3.4->seaborn) (4.53.1)\n",
            "Requirement already satisfied: kiwisolver>=1.0.1 in /usr/local/lib/python3.10/dist-packages (from matplotlib!=3.6.1,>=3.4->seaborn) (1.4.7)\n",
            "Requirement already satisfied: packaging>=20.0 in /usr/local/lib/python3.10/dist-packages (from matplotlib!=3.6.1,>=3.4->seaborn) (24.1)\n",
            "Requirement already satisfied: pillow>=6.2.0 in /usr/local/lib/python3.10/dist-packages (from matplotlib!=3.6.1,>=3.4->seaborn) (9.4.0)\n",
            "Requirement already satisfied: pyparsing>=2.3.1 in /usr/local/lib/python3.10/dist-packages (from matplotlib!=3.6.1,>=3.4->seaborn) (3.1.4)\n",
            "Requirement already satisfied: python-dateutil>=2.7 in /usr/local/lib/python3.10/dist-packages (from matplotlib!=3.6.1,>=3.4->seaborn) (2.8.2)\n",
            "Requirement already satisfied: pytz>=2020.1 in /usr/local/lib/python3.10/dist-packages (from pandas>=1.2->seaborn) (2024.2)\n",
            "Requirement already satisfied: tzdata>=2022.1 in /usr/local/lib/python3.10/dist-packages (from pandas>=1.2->seaborn) (2024.1)\n",
            "Requirement already satisfied: six>=1.5 in /usr/local/lib/python3.10/dist-packages (from python-dateutil>=2.7->matplotlib!=3.6.1,>=3.4->seaborn) (1.16.0)\n"
          ]
        }
      ],
      "source": [
        "\n",
        "!pip install pandas\n",
        "!pip install numpy\n",
        "!pip install matplotlib\n",
        "!pip install seaborn\n"
      ]
    },
    {
      "cell_type": "code",
      "source": [
        "import pandas as pd\n",
        "import numpy as np"
      ],
      "metadata": {
        "id": "H8AMWcT4EbhV"
      },
      "execution_count": 2,
      "outputs": []
    },
    {
      "cell_type": "code",
      "source": [
        "#  Load the dataset\n",
        "# Load the dataset into a pandas DataFrame\n",
        "train = pd.read_csv('/content/drive/MyDrive/Automobile_data (1).csv')"
      ],
      "metadata": {
        "id": "Yb0vR7v2E1R1"
      },
      "execution_count": 3,
      "outputs": []
    },
    {
      "cell_type": "code",
      "source": [
        "# . Show basic information about the dataset (data types, non-null counts, etc.)\n",
        "train.info()  # Display the structure of the dataset\n"
      ],
      "metadata": {
        "colab": {
          "base_uri": "https://localhost:8080/"
        },
        "id": "3CH2K98pFQXz",
        "outputId": "3cf3761b-8222-4beb-fa7e-56424d90fb21"
      },
      "execution_count": 5,
      "outputs": [
        {
          "output_type": "stream",
          "name": "stdout",
          "text": [
            "<class 'pandas.core.frame.DataFrame'>\n",
            "RangeIndex: 178 entries, 0 to 177\n",
            "Data columns (total 26 columns):\n",
            " #   Column             Non-Null Count  Dtype  \n",
            "---  ------             --------------  -----  \n",
            " 0   symboling          178 non-null    int64  \n",
            " 1   normalized-losses  178 non-null    float64\n",
            " 2   make               178 non-null    object \n",
            " 3   fuel-type          178 non-null    object \n",
            " 4   aspiration         178 non-null    object \n",
            " 5   num-of-doors       176 non-null    object \n",
            " 6   body-style         178 non-null    object \n",
            " 7   drive-wheels       178 non-null    object \n",
            " 8   engine-location    178 non-null    object \n",
            " 9   wheel-base         178 non-null    float64\n",
            " 10  length             178 non-null    float64\n",
            " 11  width              178 non-null    float64\n",
            " 12  height             178 non-null    float64\n",
            " 13  curb-weight        178 non-null    int64  \n",
            " 14  engine-type        178 non-null    object \n",
            " 15  num-of-cylinders   178 non-null    object \n",
            " 16  engine-size        178 non-null    int64  \n",
            " 17  fuel-system        178 non-null    object \n",
            " 18  bore               174 non-null    float64\n",
            " 19  stroke             174 non-null    float64\n",
            " 20  compression-ratio  178 non-null    float64\n",
            " 21  horsepower         176 non-null    float64\n",
            " 22  peak-rpm           176 non-null    float64\n",
            " 23  city-mpg           178 non-null    int64  \n",
            " 24  highway-mpg        178 non-null    int64  \n",
            " 25  price              178 non-null    int64  \n",
            "dtypes: float64(10), int64(6), object(10)\n",
            "memory usage: 36.3+ KB\n"
          ]
        }
      ]
    },
    {
      "cell_type": "code",
      "source": [
        "train.mean(numeric_only=True)  # Show mean of numeric columns\n"
      ],
      "metadata": {
        "colab": {
          "base_uri": "https://localhost:8080/",
          "height": 585
        },
        "id": "xppOsbZxGlnV",
        "outputId": "4c8f597c-4e90-4d6e-8ae4-8f1630c60256"
      },
      "execution_count": 6,
      "outputs": [
        {
          "output_type": "execute_result",
          "data": {
            "text/plain": [
              "symboling                0.780899\n",
              "normalized-losses      118.370787\n",
              "wheel-base              99.022472\n",
              "length                 174.537640\n",
              "width                   65.942135\n",
              "height                  53.869663\n",
              "curb-weight           2563.455056\n",
              "engine-size            127.022472\n",
              "bore                     3.346379\n",
              "stroke                   3.253506\n",
              "compression-ratio       10.179888\n",
              "horsepower             102.528409\n",
              "peak-rpm              5092.329545\n",
              "city-mpg                25.196629\n",
              "highway-mpg             30.651685\n",
              "price                13386.117978\n",
              "dtype: float64"
            ],
            "text/html": [
              "<div>\n",
              "<style scoped>\n",
              "    .dataframe tbody tr th:only-of-type {\n",
              "        vertical-align: middle;\n",
              "    }\n",
              "\n",
              "    .dataframe tbody tr th {\n",
              "        vertical-align: top;\n",
              "    }\n",
              "\n",
              "    .dataframe thead th {\n",
              "        text-align: right;\n",
              "    }\n",
              "</style>\n",
              "<table border=\"1\" class=\"dataframe\">\n",
              "  <thead>\n",
              "    <tr style=\"text-align: right;\">\n",
              "      <th></th>\n",
              "      <th>0</th>\n",
              "    </tr>\n",
              "  </thead>\n",
              "  <tbody>\n",
              "    <tr>\n",
              "      <th>symboling</th>\n",
              "      <td>0.780899</td>\n",
              "    </tr>\n",
              "    <tr>\n",
              "      <th>normalized-losses</th>\n",
              "      <td>118.370787</td>\n",
              "    </tr>\n",
              "    <tr>\n",
              "      <th>wheel-base</th>\n",
              "      <td>99.022472</td>\n",
              "    </tr>\n",
              "    <tr>\n",
              "      <th>length</th>\n",
              "      <td>174.537640</td>\n",
              "    </tr>\n",
              "    <tr>\n",
              "      <th>width</th>\n",
              "      <td>65.942135</td>\n",
              "    </tr>\n",
              "    <tr>\n",
              "      <th>height</th>\n",
              "      <td>53.869663</td>\n",
              "    </tr>\n",
              "    <tr>\n",
              "      <th>curb-weight</th>\n",
              "      <td>2563.455056</td>\n",
              "    </tr>\n",
              "    <tr>\n",
              "      <th>engine-size</th>\n",
              "      <td>127.022472</td>\n",
              "    </tr>\n",
              "    <tr>\n",
              "      <th>bore</th>\n",
              "      <td>3.346379</td>\n",
              "    </tr>\n",
              "    <tr>\n",
              "      <th>stroke</th>\n",
              "      <td>3.253506</td>\n",
              "    </tr>\n",
              "    <tr>\n",
              "      <th>compression-ratio</th>\n",
              "      <td>10.179888</td>\n",
              "    </tr>\n",
              "    <tr>\n",
              "      <th>horsepower</th>\n",
              "      <td>102.528409</td>\n",
              "    </tr>\n",
              "    <tr>\n",
              "      <th>peak-rpm</th>\n",
              "      <td>5092.329545</td>\n",
              "    </tr>\n",
              "    <tr>\n",
              "      <th>city-mpg</th>\n",
              "      <td>25.196629</td>\n",
              "    </tr>\n",
              "    <tr>\n",
              "      <th>highway-mpg</th>\n",
              "      <td>30.651685</td>\n",
              "    </tr>\n",
              "    <tr>\n",
              "      <th>price</th>\n",
              "      <td>13386.117978</td>\n",
              "    </tr>\n",
              "  </tbody>\n",
              "</table>\n",
              "</div><br><label><b>dtype:</b> float64</label>"
            ]
          },
          "metadata": {},
          "execution_count": 6
        }
      ]
    },
    {
      "cell_type": "code",
      "source": [
        "train.median(numeric_only=True)  # Show median of numeric columns"
      ],
      "metadata": {
        "colab": {
          "base_uri": "https://localhost:8080/",
          "height": 585
        },
        "id": "4mll2HolGtpd",
        "outputId": "44832412-871f-4a78-8303-daa2534be808"
      },
      "execution_count": 7,
      "outputs": [
        {
          "output_type": "execute_result",
          "data": {
            "text/plain": [
              "symboling                1.000000\n",
              "normalized-losses      122.166667\n",
              "wheel-base              97.000000\n",
              "length                 173.200000\n",
              "width                   65.500000\n",
              "height                  54.100000\n",
              "curb-weight           2434.000000\n",
              "engine-size            120.000000\n",
              "bore                     3.320000\n",
              "stroke                   3.290000\n",
              "compression-ratio        9.000000\n",
              "horsepower              95.000000\n",
              "peak-rpm              5000.000000\n",
              "city-mpg                25.000000\n",
              "highway-mpg             30.000000\n",
              "price                10470.000000\n",
              "dtype: float64"
            ],
            "text/html": [
              "<div>\n",
              "<style scoped>\n",
              "    .dataframe tbody tr th:only-of-type {\n",
              "        vertical-align: middle;\n",
              "    }\n",
              "\n",
              "    .dataframe tbody tr th {\n",
              "        vertical-align: top;\n",
              "    }\n",
              "\n",
              "    .dataframe thead th {\n",
              "        text-align: right;\n",
              "    }\n",
              "</style>\n",
              "<table border=\"1\" class=\"dataframe\">\n",
              "  <thead>\n",
              "    <tr style=\"text-align: right;\">\n",
              "      <th></th>\n",
              "      <th>0</th>\n",
              "    </tr>\n",
              "  </thead>\n",
              "  <tbody>\n",
              "    <tr>\n",
              "      <th>symboling</th>\n",
              "      <td>1.000000</td>\n",
              "    </tr>\n",
              "    <tr>\n",
              "      <th>normalized-losses</th>\n",
              "      <td>122.166667</td>\n",
              "    </tr>\n",
              "    <tr>\n",
              "      <th>wheel-base</th>\n",
              "      <td>97.000000</td>\n",
              "    </tr>\n",
              "    <tr>\n",
              "      <th>length</th>\n",
              "      <td>173.200000</td>\n",
              "    </tr>\n",
              "    <tr>\n",
              "      <th>width</th>\n",
              "      <td>65.500000</td>\n",
              "    </tr>\n",
              "    <tr>\n",
              "      <th>height</th>\n",
              "      <td>54.100000</td>\n",
              "    </tr>\n",
              "    <tr>\n",
              "      <th>curb-weight</th>\n",
              "      <td>2434.000000</td>\n",
              "    </tr>\n",
              "    <tr>\n",
              "      <th>engine-size</th>\n",
              "      <td>120.000000</td>\n",
              "    </tr>\n",
              "    <tr>\n",
              "      <th>bore</th>\n",
              "      <td>3.320000</td>\n",
              "    </tr>\n",
              "    <tr>\n",
              "      <th>stroke</th>\n",
              "      <td>3.290000</td>\n",
              "    </tr>\n",
              "    <tr>\n",
              "      <th>compression-ratio</th>\n",
              "      <td>9.000000</td>\n",
              "    </tr>\n",
              "    <tr>\n",
              "      <th>horsepower</th>\n",
              "      <td>95.000000</td>\n",
              "    </tr>\n",
              "    <tr>\n",
              "      <th>peak-rpm</th>\n",
              "      <td>5000.000000</td>\n",
              "    </tr>\n",
              "    <tr>\n",
              "      <th>city-mpg</th>\n",
              "      <td>25.000000</td>\n",
              "    </tr>\n",
              "    <tr>\n",
              "      <th>highway-mpg</th>\n",
              "      <td>30.000000</td>\n",
              "    </tr>\n",
              "    <tr>\n",
              "      <th>price</th>\n",
              "      <td>10470.000000</td>\n",
              "    </tr>\n",
              "  </tbody>\n",
              "</table>\n",
              "</div><br><label><b>dtype:</b> float64</label>"
            ]
          },
          "metadata": {},
          "execution_count": 7
        }
      ]
    },
    {
      "cell_type": "code",
      "source": [
        "#Find duplicates:\n",
        "\n",
        "duplicates = train[train.duplicated()]  # Identify duplicated rows\n",
        "print(duplicates)  # Display duplicate rows, if any"
      ],
      "metadata": {
        "colab": {
          "base_uri": "https://localhost:8080/"
        },
        "id": "yiluqiUiGxto",
        "outputId": "56b9ffc6-dbbd-4797-d6e4-9bbc59679dfb"
      },
      "execution_count": 11,
      "outputs": [
        {
          "output_type": "stream",
          "name": "stdout",
          "text": [
            "Empty DataFrame\n",
            "Columns: [symboling, normalized-losses, make, fuel-type, aspiration, num-of-doors, body-style, drive-wheels, engine-location, wheel-base, length, width, height, curb-weight, engine-type, num-of-cylinders, engine-size, fuel-system, bore, stroke, compression-ratio, horsepower, peak-rpm, city-mpg, highway-mpg, price]\n",
            "Index: []\n",
            "\n",
            "[0 rows x 26 columns]\n"
          ]
        }
      ]
    },
    {
      "cell_type": "code",
      "source": [
        "\n",
        "duplicates = train[train.duplicated(\"normalized-losses\")]  # Identify duplicated rows\n",
        "print(duplicates)  # Display duplicate rows, if any"
      ],
      "metadata": {
        "colab": {
          "base_uri": "https://localhost:8080/"
        },
        "id": "98rSRdhqHkYM",
        "outputId": "08a16347-be6d-4d0f-8c47-a0bf5f9ae5f6"
      },
      "execution_count": 10,
      "outputs": [
        {
          "output_type": "stream",
          "name": "stdout",
          "text": [
            "     symboling  normalized-losses         make fuel-type aspiration  \\\n",
            "1            3         122.166667  alfa-romero       gas        std   \n",
            "3            2         164.000000         audi       gas        std   \n",
            "4            2         122.166667         audi       gas        std   \n",
            "6            1         122.166667         audi       gas        std   \n",
            "7            1         158.000000         audi       gas      turbo   \n",
            "..         ...                ...          ...       ...        ...   \n",
            "172         -1          74.000000        volvo       gas      turbo   \n",
            "174         -1          95.000000        volvo       gas      turbo   \n",
            "175         -1          95.000000        volvo       gas        std   \n",
            "176         -1          95.000000        volvo    diesel      turbo   \n",
            "177         -1          95.000000        volvo       gas      turbo   \n",
            "\n",
            "    num-of-doors   body-style drive-wheels engine-location  wheel-base  ...  \\\n",
            "1            two  convertible          rwd           front        88.6  ...   \n",
            "3           four        sedan          4wd           front        99.4  ...   \n",
            "4            two        sedan          fwd           front        99.8  ...   \n",
            "6           four        wagon          fwd           front       105.8  ...   \n",
            "7           four        sedan          fwd           front       105.8  ...   \n",
            "..           ...          ...          ...             ...         ...  ...   \n",
            "172         four        wagon          rwd           front       104.3  ...   \n",
            "174         four        sedan          rwd           front       109.1  ...   \n",
            "175         four        sedan          rwd           front       109.1  ...   \n",
            "176         four        sedan          rwd           front       109.1  ...   \n",
            "177         four        sedan          rwd           front       109.1  ...   \n",
            "\n",
            "     engine-size  fuel-system  bore  stroke compression-ratio horsepower  \\\n",
            "1            130         mpfi  3.47    2.68               9.0      111.0   \n",
            "3            136         mpfi  3.19    3.40               8.0      115.0   \n",
            "4            136         mpfi  3.19    3.40               8.5      110.0   \n",
            "6            136         mpfi  3.19    3.40               8.5      110.0   \n",
            "7            131         mpfi  3.13    3.40               8.3      140.0   \n",
            "..           ...          ...   ...     ...               ...        ...   \n",
            "172          130         mpfi  3.62    3.15               7.5      162.0   \n",
            "174          141         mpfi  3.78    3.15               8.7      160.0   \n",
            "175          173         mpfi  3.58    2.87               8.8      134.0   \n",
            "176          145          idi  3.01    3.40              23.0      106.0   \n",
            "177          141         mpfi  3.78    3.15               9.5      114.0   \n",
            "\n",
            "     peak-rpm city-mpg  highway-mpg  price  \n",
            "1      5000.0       21           27  16500  \n",
            "3      5500.0       18           22  17450  \n",
            "4      5500.0       19           25  15250  \n",
            "6      5500.0       19           25  18920  \n",
            "7      5500.0       17           20  23875  \n",
            "..        ...      ...          ...    ...  \n",
            "172    5100.0       17           22  18950  \n",
            "174    5300.0       19           25  19045  \n",
            "175    5500.0       18           23  21485  \n",
            "176    4800.0       26           27  22470  \n",
            "177    5400.0       19           25  22625  \n",
            "\n",
            "[134 rows x 26 columns]\n"
          ]
        }
      ]
    },
    {
      "cell_type": "code",
      "source": [
        "train = train.drop_duplicates()  # Remove duplicate rows"
      ],
      "metadata": {
        "id": "dFg39UlbH9Jq"
      },
      "execution_count": 12,
      "outputs": []
    },
    {
      "cell_type": "code",
      "source": [
        "#Replace '?' with NaN and check for missing values:\n",
        "missing_values = train.isnull().sum()  # Count missing values for each column\n",
        "train.replace('?', np.nan, inplace=True)  # Replace all '?' with NaN\n",
        "\n",
        "print(\"Missing values:\\n\", missing_values)  # Display missing values"
      ],
      "metadata": {
        "colab": {
          "base_uri": "https://localhost:8080/"
        },
        "id": "Lo1DhIIdIjQ_",
        "outputId": "71137d41-baa4-45ff-95f9-131b01c353bf"
      },
      "execution_count": 15,
      "outputs": [
        {
          "output_type": "stream",
          "name": "stdout",
          "text": [
            "Missing values:\n",
            " symboling            0\n",
            "normalized-losses    0\n",
            "make                 0\n",
            "fuel-type            0\n",
            "aspiration           0\n",
            "num-of-doors         2\n",
            "body-style           0\n",
            "drive-wheels         0\n",
            "engine-location      0\n",
            "wheel-base           0\n",
            "length               0\n",
            "width                0\n",
            "height               0\n",
            "curb-weight          0\n",
            "engine-type          0\n",
            "num-of-cylinders     0\n",
            "engine-size          0\n",
            "fuel-system          0\n",
            "bore                 4\n",
            "stroke               4\n",
            "compression-ratio    0\n",
            "horsepower           2\n",
            "peak-rpm             2\n",
            "city-mpg             0\n",
            "highway-mpg          0\n",
            "price                0\n",
            "dtype: int64\n"
          ]
        }
      ]
    },
    {
      "cell_type": "code",
      "source": [
        "#Drop rows with missing values in the 'price' column:\n",
        "\n",
        "\n",
        "train.dropna(subset=['price'], inplace=True)  # Remove rows where 'price' is missing"
      ],
      "metadata": {
        "id": "JGd-9npSI3_s"
      },
      "execution_count": 16,
      "outputs": []
    },
    {
      "cell_type": "code",
      "source": [
        "# 7. Display basic statistics (mean, median)\n",
        "# Display the mean of all numeric columns\n",
        "print(\"Mean of numeric columns:\\n\", train.mean(numeric_only=True))\n",
        "# Display the median of all numeric columns\n",
        "print(\"Median of numeric columns:\\n\", train.median(numeric_only=True))\n"
      ],
      "metadata": {
        "colab": {
          "base_uri": "https://localhost:8080/"
        },
        "id": "HkE-ZgszJ00q",
        "outputId": "c55a5fc8-790b-4441-d0e4-b84e0f2b811d"
      },
      "execution_count": 17,
      "outputs": [
        {
          "output_type": "stream",
          "name": "stdout",
          "text": [
            "Mean of numeric columns:\n",
            " symboling                0.780899\n",
            "normalized-losses      118.370787\n",
            "wheel-base              99.022472\n",
            "length                 174.537640\n",
            "width                   65.942135\n",
            "height                  53.869663\n",
            "curb-weight           2563.455056\n",
            "engine-size            127.022472\n",
            "bore                     3.346379\n",
            "stroke                   3.253506\n",
            "compression-ratio       10.179888\n",
            "horsepower             102.528409\n",
            "peak-rpm              5092.329545\n",
            "city-mpg                25.196629\n",
            "highway-mpg             30.651685\n",
            "price                13386.117978\n",
            "dtype: float64\n",
            "Median of numeric columns:\n",
            " symboling                1.000000\n",
            "normalized-losses      122.166667\n",
            "wheel-base              97.000000\n",
            "length                 173.200000\n",
            "width                   65.500000\n",
            "height                  54.100000\n",
            "curb-weight           2434.000000\n",
            "engine-size            120.000000\n",
            "bore                     3.320000\n",
            "stroke                   3.290000\n",
            "compression-ratio        9.000000\n",
            "horsepower              95.000000\n",
            "peak-rpm              5000.000000\n",
            "city-mpg                25.000000\n",
            "highway-mpg             30.000000\n",
            "price                10470.000000\n",
            "dtype: float64\n"
          ]
        }
      ]
    },
    {
      "cell_type": "code",
      "source": [
        "#Impute missing values in 'normalized-losses' with the mean:\n",
        "\n",
        "\n",
        "train['normalized-losses'] = pd.to_numeric(train['normalized-losses'], errors='coerce') # Convert 'normalized-losses' column to numeric, coercing errors to NaN\n",
        "mean_normalized_losses = train['normalized-losses'].mean()  # Calculate mean\n",
        "train['normalized-losses'].fillna(mean_normalized_losses, inplace=True)  # Fill NaN  with mean"
      ],
      "metadata": {
        "id": "hLGWGgI_KHEE"
      },
      "execution_count": 21,
      "outputs": []
    },
    {
      "cell_type": "code",
      "source": [
        "#Find outliers in 'normalized-losses' and 'symboling' with boxplots:\n",
        "# . Identify outliers in 'normalized-losses' and 'symboling' columns\n",
        "import matplotlib.pyplot as plt\n",
        "import seaborn as sns\n",
        "\n",
        "plt.figure(figsize=(12, 6))\n",
        "plt.subplot(1, 2, 1)\n",
        "sns.boxplot(y=train['normalized-losses'])  # Boxplot for 'normalized-losses'\n",
        "plt.subplot(1, 2, 2)\n",
        "sns.boxplot(y=train['symboling'])  # Boxplot for 'symboling'\n",
        "plt.show()"
      ],
      "metadata": {
        "colab": {
          "base_uri": "https://localhost:8080/",
          "height": 431
        },
        "id": "LAFk9lrTKVWk",
        "outputId": "d47a422e-d0e3-44b8-f999-7eb5199b51cd"
      },
      "execution_count": 26,
      "outputs": [
        {
          "output_type": "display_data",
          "data": {
            "text/plain": [
              "<Figure size 1200x600 with 2 Axes>"
            ],
            "image/png": "[encoded data removed]"
          },
          "metadata": {}
        }
      ]
    },
    {
      "cell_type": "code",
      "source": [
        "# Filter rows where 'price' is less than 20000\n",
        "filtered_data = train[train['price'] < 20000]"
      ],
      "metadata": {
        "id": "epIvLhm1MKRv"
      },
      "execution_count": 28,
      "outputs": []
    },
    {
      "cell_type": "code",
      "source": [
        "# Apply the outlier removal function to 'normalized-losses' and 'symboling'\n",
        "train = remove_outliers(train, 'normalized-losses')\n",
        "train = remove_outliers(train, 'symboling')"
      ],
      "metadata": {
        "id": "-XDwO3syPd-P"
      },
      "execution_count": 32,
      "outputs": []
    },
    {
      "cell_type": "code",
      "source": [
        "train.to_csv('cleaned_automobile_data.csv', index=False)  # Save cleaned data"
      ],
      "metadata": {
        "id": "NiLwyiAkNePp"
      },
      "execution_count": 29,
      "outputs": []
    },
    {
      "cell_type": "code",
      "source": [
        "#Visualize the cleaned data after outlier removal:\n",
        "plt.figure(figsize=(12, 6))\n",
        "plt.subplot(1, 2, 1)\n",
        "sns.boxplot(y=train['normalized-losses'])  # Boxplot after outlier removal\n",
        "plt.subplot(1, 2, 2)\n",
        "sns.boxplot(y=train['symboling'])  # Boxplot after outlier removal\n",
        "plt.show()"
      ],
      "metadata": {
        "colab": {
          "base_uri": "https://localhost:8080/",
          "height": 431
        },
        "id": "oi_u43ZVNjn3",
        "outputId": "6dfdeb75-4852-4fe1-9854-18100dbcdd1d"
      },
      "execution_count": 34,
      "outputs": [
        {
          "output_type": "display_data",
          "data": {
            "text/plain": [
              "<Figure size 1200x600 with 2 Axes>"
            ],
            "image/png": "[encoded data removed]"
          },
          "metadata": {}
        }
      ]
    },
    {
      "cell_type": "code",
      "source": [],
      "metadata": {
        "id": "OEZFD5sPPcqn"
      },
      "execution_count": null,
      "outputs": []
    }
  ]
}