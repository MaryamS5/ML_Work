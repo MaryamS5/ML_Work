{
  "nbformat": 4,
  "nbformat_minor": 0,
  "metadata": {
    "colab": {
      "provenance": [],
      "mount_file_id": "1RxxKuFEpLlLwYUfybKjG4VC5jHphqD37",
      "authorship_tag": "ABX9TyMHpPen+nq4JhtSUk0c5Ek7",
      "include_colab_link": true
    },
    "kernelspec": {
      "name": "python3",
      "display_name": "Python 3"
    },
    "language_info": {
      "name": "python"
    }
  },
  "cells": [
    {
      "cell_type": "markdown",
      "metadata": {
        "id": "view-in-github",
        "colab_type": "text"
      },
      "source": [
        "<a href=\"https://colab.research.google.com/github/MaryamS5/ML_Work/blob/main/assig1.ipynb\" target=\"_parent\"><img src=\"https://colab.research.google.com/assets/colab-badge.svg\" alt=\"Open In Colab\"/></a>"
      ]
    },
    {
      "cell_type": "code",
      "execution_count": 1,
      "metadata": {
        "id": "sBVWSqrEQ2vp"
      },
      "outputs": [],
      "source": [
        "# name: Maraym Sohail\n",
        "# Sap id: 45773\n",
        "# Assignment:#1"
      ]
    },
    {
      "cell_type": "code",
      "source": [
        "\n",
        "!pip install pandas\n",
        "!pip install numpy\n",
        "!pip install matplotlib\n",
        "!pip install seaborn"
      ],
      "metadata": {
        "colab": {
          "base_uri": "https://localhost:8080/"
        },
        "id": "Cqp0ag0nRDiN",
        "outputId": "356596f6-9922-400e-ed8c-0ea47599cd82"
      },
      "execution_count": 2,
      "outputs": [
        {
          "output_type": "stream",
          "name": "stdout",
          "text": [
            "Requirement already satisfied: pandas in /usr/local/lib/python3.10/dist-packages (2.1.4)\n",
            "Requirement already satisfied: numpy<2,>=1.22.4 in /usr/local/lib/python3.10/dist-packages (from pandas) (1.26.4)\n",
            "Requirement already satisfied: python-dateutil>=2.8.2 in /usr/local/lib/python3.10/dist-packages (from pandas) (2.8.2)\n",
            "Requirement already satisfied: pytz>=2020.1 in /usr/local/lib/python3.10/dist-packages (from pandas) (2024.2)\n",
            "Requirement already satisfied: tzdata>=2022.1 in /usr/local/lib/python3.10/dist-packages (from pandas) (2024.1)\n",
            "Requirement already satisfied: six>=1.5 in /usr/local/lib/python3.10/dist-packages (from python-dateutil>=2.8.2->pandas) (1.16.0)\n",
            "Requirement already satisfied: numpy in /usr/local/lib/python3.10/dist-packages (1.26.4)\n",
            "Requirement already satisfied: matplotlib in /usr/local/lib/python3.10/dist-packages (3.7.1)\n",
            "Requirement already satisfied: contourpy>=1.0.1 in /usr/local/lib/python3.10/dist-packages (from matplotlib) (1.3.0)\n",
            "Requirement already satisfied: cycler>=0.10 in /usr/local/lib/python3.10/dist-packages (from matplotlib) (0.12.1)\n",
            "Requirement already satisfied: fonttools>=4.22.0 in /usr/local/lib/python3.10/dist-packages (from matplotlib) (4.53.1)\n",
            "Requirement already satisfied: kiwisolver>=1.0.1 in /usr/local/lib/python3.10/dist-packages (from matplotlib) (1.4.7)\n",
            "Requirement already satisfied: numpy>=1.20 in /usr/local/lib/python3.10/dist-packages (from matplotlib) (1.26.4)\n",
            "Requirement already satisfied: packaging>=20.0 in /usr/local/lib/python3.10/dist-packages (from matplotlib) (24.1)\n",
            "Requirement already satisfied: pillow>=6.2.0 in /usr/local/lib/python3.10/dist-packages (from matplotlib) (9.4.0)\n",
            "Requirement already satisfied: pyparsing>=2.3.1 in /usr/local/lib/python3.10/dist-packages (from matplotlib) (3.1.4)\n",
            "Requirement already satisfied: python-dateutil>=2.7 in /usr/local/lib/python3.10/dist-packages (from matplotlib) (2.8.2)\n",
            "Requirement already satisfied: six>=1.5 in /usr/local/lib/python3.10/dist-packages (from python-dateutil>=2.7->matplotlib) (1.16.0)\n",
            "Requirement already satisfied: seaborn in /usr/local/lib/python3.10/dist-packages (0.13.1)\n",
            "Requirement already satisfied: numpy!=1.24.0,>=1.20 in /usr/local/lib/python3.10/dist-packages (from seaborn) (1.26.4)\n",
            "Requirement already satisfied: pandas>=1.2 in /usr/local/lib/python3.10/dist-packages (from seaborn) (2.1.4)\n",
            "Requirement already satisfied: matplotlib!=3.6.1,>=3.4 in /usr/local/lib/python3.10/dist-packages (from seaborn) (3.7.1)\n",
            "Requirement already satisfied: contourpy>=1.0.1 in /usr/local/lib/python3.10/dist-packages (from matplotlib!=3.6.1,>=3.4->seaborn) (1.3.0)\n",
            "Requirement already satisfied: cycler>=0.10 in /usr/local/lib/python3.10/dist-packages (from matplotlib!=3.6.1,>=3.4->seaborn) (0.12.1)\n",
            "Requirement already satisfied: fonttools>=4.22.0 in /usr/local/lib/python3.10/dist-packages (from matplotlib!=3.6.1,>=3.4->seaborn) (4.53.1)\n",
            "Requirement already satisfied: kiwisolver>=1.0.1 in /usr/local/lib/python3.10/dist-packages (from matplotlib!=3.6.1,>=3.4->seaborn) (1.4.7)\n",
            "Requirement already satisfied: packaging>=20.0 in /usr/local/lib/python3.10/dist-packages (from matplotlib!=3.6.1,>=3.4->seaborn) (24.1)\n",
            "Requirement already satisfied: pillow>=6.2.0 in /usr/local/lib/python3.10/dist-packages (from matplotlib!=3.6.1,>=3.4->seaborn) (9.4.0)\n",
            "Requirement already satisfied: pyparsing>=2.3.1 in /usr/local/lib/python3.10/dist-packages (from matplotlib!=3.6.1,>=3.4->seaborn) (3.1.4)\n",
            "Requirement already satisfied: python-dateutil>=2.7 in /usr/local/lib/python3.10/dist-packages (from matplotlib!=3.6.1,>=3.4->seaborn) (2.8.2)\n",
            "Requirement already satisfied: pytz>=2020.1 in /usr/local/lib/python3.10/dist-packages (from pandas>=1.2->seaborn) (2024.2)\n",
            "Requirement already satisfied: tzdata>=2022.1 in /usr/local/lib/python3.10/dist-packages (from pandas>=1.2->seaborn) (2024.1)\n",
            "Requirement already satisfied: six>=1.5 in /usr/local/lib/python3.10/dist-packages (from python-dateutil>=2.7->matplotlib!=3.6.1,>=3.4->seaborn) (1.16.0)\n"
          ]
        }
      ]
    },
    {
      "cell_type": "code",
      "source": [
        "import pandas as pd\n",
        "import numpy as np\n",
        "import matplotlib.pyplot as plt\n",
        "import seaborn as sns\n"
      ],
      "metadata": {
        "id": "bLUbGr2SRIbk"
      },
      "execution_count": 3,
      "outputs": []
    },
    {
      "cell_type": "code",
      "source": [
        "#  Load the dataset\n",
        "# Load the dataset into a pandas DataFrame\n",
        "train = pd.read_csv('/content/drive/MyDrive/Automobile_data (1).csv')"
      ],
      "metadata": {
        "id": "a5_5kdkiRck9"
      },
      "execution_count": 4,
      "outputs": []
    },
    {
      "cell_type": "code",
      "source": [
        "# . Show basic information about the dataset (data types, non-null counts, etc.)\n",
        "train.info()  # Display the structure of the dataset\n"
      ],
      "metadata": {
        "colab": {
          "base_uri": "https://localhost:8080/"
        },
        "id": "vOAawf7wRw4Y",
        "outputId": "1fd25487-8190-4ca0-e16e-c53da1f4bccc"
      },
      "execution_count": 5,
      "outputs": [
        {
          "output_type": "stream",
          "name": "stdout",
          "text": [
            "<class 'pandas.core.frame.DataFrame'>\n",
            "RangeIndex: 178 entries, 0 to 177\n",
            "Data columns (total 26 columns):\n",
            " #   Column             Non-Null Count  Dtype  \n",
            "---  ------             --------------  -----  \n",
            " 0   symboling          178 non-null    int64  \n",
            " 1   normalized-losses  178 non-null    float64\n",
            " 2   make               178 non-null    object \n",
            " 3   fuel-type          178 non-null    object \n",
            " 4   aspiration         178 non-null    object \n",
            " 5   num-of-doors       176 non-null    object \n",
            " 6   body-style         178 non-null    object \n",
            " 7   drive-wheels       178 non-null    object \n",
            " 8   engine-location    178 non-null    object \n",
            " 9   wheel-base         178 non-null    float64\n",
            " 10  length             178 non-null    float64\n",
            " 11  width              178 non-null    float64\n",
            " 12  height             178 non-null    float64\n",
            " 13  curb-weight        178 non-null    int64  \n",
            " 14  engine-type        178 non-null    object \n",
            " 15  num-of-cylinders   178 non-null    object \n",
            " 16  engine-size        178 non-null    int64  \n",
            " 17  fuel-system        178 non-null    object \n",
            " 18  bore               174 non-null    float64\n",
            " 19  stroke             174 non-null    float64\n",
            " 20  compression-ratio  178 non-null    float64\n",
            " 21  horsepower         176 non-null    float64\n",
            " 22  peak-rpm           176 non-null    float64\n",
            " 23  city-mpg           178 non-null    int64  \n",
            " 24  highway-mpg        178 non-null    int64  \n",
            " 25  price              178 non-null    int64  \n",
            "dtypes: float64(10), int64(6), object(10)\n",
            "memory usage: 36.3+ KB\n"
          ]
        }
      ]
    },
    {
      "cell_type": "code",
      "source": [
        "train.mean(numeric_only=True)  # Show mean of numeric columns"
      ],
      "metadata": {
        "colab": {
          "base_uri": "https://localhost:8080/",
          "height": 585
        },
        "id": "xBCm1teeR63I",
        "outputId": "6cbea0a3-b0aa-44df-a172-ac6e3b4f4951"
      },
      "execution_count": 7,
      "outputs": [
        {
          "output_type": "execute_result",
          "data": {
            "text/plain": [
              "symboling                0.780899\n",
              "normalized-losses      118.370787\n",
              "wheel-base              99.022472\n",
              "length                 174.537640\n",
              "width                   65.942135\n",
              "height                  53.869663\n",
              "curb-weight           2563.455056\n",
              "engine-size            127.022472\n",
              "bore                     3.346379\n",
              "stroke                   3.253506\n",
              "compression-ratio       10.179888\n",
              "horsepower             102.528409\n",
              "peak-rpm              5092.329545\n",
              "city-mpg                25.196629\n",
              "highway-mpg             30.651685\n",
              "price                13386.117978\n",
              "dtype: float64"
            ],
            "text/html": [
              "<div>\n",
              "<style scoped>\n",
              "    .dataframe tbody tr th:only-of-type {\n",
              "        vertical-align: middle;\n",
              "    }\n",
              "\n",
              "    .dataframe tbody tr th {\n",
              "        vertical-align: top;\n",
              "    }\n",
              "\n",
              "    .dataframe thead th {\n",
              "        text-align: right;\n",
              "    }\n",
              "</style>\n",
              "<table border=\"1\" class=\"dataframe\">\n",
              "  <thead>\n",
              "    <tr style=\"text-align: right;\">\n",
              "      <th></th>\n",
              "      <th>0</th>\n",
              "    </tr>\n",
              "  </thead>\n",
              "  <tbody>\n",
              "    <tr>\n",
              "      <th>symboling</th>\n",
              "      <td>0.780899</td>\n",
              "    </tr>\n",
              "    <tr>\n",
              "      <th>normalized-losses</th>\n",
              "      <td>118.370787</td>\n",
              "    </tr>\n",
              "    <tr>\n",
              "      <th>wheel-base</th>\n",
              "      <td>99.022472</td>\n",
              "    </tr>\n",
              "    <tr>\n",
              "      <th>length</th>\n",
              "      <td>174.537640</td>\n",
              "    </tr>\n",
              "    <tr>\n",
              "      <th>width</th>\n",
              "      <td>65.942135</td>\n",
              "    </tr>\n",
              "    <tr>\n",
              "      <th>height</th>\n",
              "      <td>53.869663</td>\n",
              "    </tr>\n",
              "    <tr>\n",
              "      <th>curb-weight</th>\n",
              "      <td>2563.455056</td>\n",
              "    </tr>\n",
              "    <tr>\n",
              "      <th>engine-size</th>\n",
              "      <td>127.022472</td>\n",
              "    </tr>\n",
              "    <tr>\n",
              "      <th>bore</th>\n",
              "      <td>3.346379</td>\n",
              "    </tr>\n",
              "    <tr>\n",
              "      <th>stroke</th>\n",
              "      <td>3.253506</td>\n",
              "    </tr>\n",
              "    <tr>\n",
              "      <th>compression-ratio</th>\n",
              "      <td>10.179888</td>\n",
              "    </tr>\n",
              "    <tr>\n",
              "      <th>horsepower</th>\n",
              "      <td>102.528409</td>\n",
              "    </tr>\n",
              "    <tr>\n",
              "      <th>peak-rpm</th>\n",
              "      <td>5092.329545</td>\n",
              "    </tr>\n",
              "    <tr>\n",
              "      <th>city-mpg</th>\n",
              "      <td>25.196629</td>\n",
              "    </tr>\n",
              "    <tr>\n",
              "      <th>highway-mpg</th>\n",
              "      <td>30.651685</td>\n",
              "    </tr>\n",
              "    <tr>\n",
              "      <th>price</th>\n",
              "      <td>13386.117978</td>\n",
              "    </tr>\n",
              "  </tbody>\n",
              "</table>\n",
              "</div><br><label><b>dtype:</b> float64</label>"
            ]
          },
          "metadata": {},
          "execution_count": 7
        }
      ]
    },
    {
      "cell_type": "code",
      "source": [
        "train.median(numeric_only=True)  # Show median of numeric columns"
      ],
      "metadata": {
        "colab": {
          "base_uri": "https://localhost:8080/",
          "height": 585
        },
        "id": "1U88XWIzR_0x",
        "outputId": "122f0156-2e2d-42e4-ed13-362ff91f6096"
      },
      "execution_count": 8,
      "outputs": [
        {
          "output_type": "execute_result",
          "data": {
            "text/plain": [
              "symboling                1.000000\n",
              "normalized-losses      122.166667\n",
              "wheel-base              97.000000\n",
              "length                 173.200000\n",
              "width                   65.500000\n",
              "height                  54.100000\n",
              "curb-weight           2434.000000\n",
              "engine-size            120.000000\n",
              "bore                     3.320000\n",
              "stroke                   3.290000\n",
              "compression-ratio        9.000000\n",
              "horsepower              95.000000\n",
              "peak-rpm              5000.000000\n",
              "city-mpg                25.000000\n",
              "highway-mpg             30.000000\n",
              "price                10470.000000\n",
              "dtype: float64"
            ],
            "text/html": [
              "<div>\n",
              "<style scoped>\n",
              "    .dataframe tbody tr th:only-of-type {\n",
              "        vertical-align: middle;\n",
              "    }\n",
              "\n",
              "    .dataframe tbody tr th {\n",
              "        vertical-align: top;\n",
              "    }\n",
              "\n",
              "    .dataframe thead th {\n",
              "        text-align: right;\n",
              "    }\n",
              "</style>\n",
              "<table border=\"1\" class=\"dataframe\">\n",
              "  <thead>\n",
              "    <tr style=\"text-align: right;\">\n",
              "      <th></th>\n",
              "      <th>0</th>\n",
              "    </tr>\n",
              "  </thead>\n",
              "  <tbody>\n",
              "    <tr>\n",
              "      <th>symboling</th>\n",
              "      <td>1.000000</td>\n",
              "    </tr>\n",
              "    <tr>\n",
              "      <th>normalized-losses</th>\n",
              "      <td>122.166667</td>\n",
              "    </tr>\n",
              "    <tr>\n",
              "      <th>wheel-base</th>\n",
              "      <td>97.000000</td>\n",
              "    </tr>\n",
              "    <tr>\n",
              "      <th>length</th>\n",
              "      <td>173.200000</td>\n",
              "    </tr>\n",
              "    <tr>\n",
              "      <th>width</th>\n",
              "      <td>65.500000</td>\n",
              "    </tr>\n",
              "    <tr>\n",
              "      <th>height</th>\n",
              "      <td>54.100000</td>\n",
              "    </tr>\n",
              "    <tr>\n",
              "      <th>curb-weight</th>\n",
              "      <td>2434.000000</td>\n",
              "    </tr>\n",
              "    <tr>\n",
              "      <th>engine-size</th>\n",
              "      <td>120.000000</td>\n",
              "    </tr>\n",
              "    <tr>\n",
              "      <th>bore</th>\n",
              "      <td>3.320000</td>\n",
              "    </tr>\n",
              "    <tr>\n",
              "      <th>stroke</th>\n",
              "      <td>3.290000</td>\n",
              "    </tr>\n",
              "    <tr>\n",
              "      <th>compression-ratio</th>\n",
              "      <td>9.000000</td>\n",
              "    </tr>\n",
              "    <tr>\n",
              "      <th>horsepower</th>\n",
              "      <td>95.000000</td>\n",
              "    </tr>\n",
              "    <tr>\n",
              "      <th>peak-rpm</th>\n",
              "      <td>5000.000000</td>\n",
              "    </tr>\n",
              "    <tr>\n",
              "      <th>city-mpg</th>\n",
              "      <td>25.000000</td>\n",
              "    </tr>\n",
              "    <tr>\n",
              "      <th>highway-mpg</th>\n",
              "      <td>30.000000</td>\n",
              "    </tr>\n",
              "    <tr>\n",
              "      <th>price</th>\n",
              "      <td>10470.000000</td>\n",
              "    </tr>\n",
              "  </tbody>\n",
              "</table>\n",
              "</div><br><label><b>dtype:</b> float64</label>"
            ]
          },
          "metadata": {},
          "execution_count": 8
        }
      ]
    },
    {
      "cell_type": "code",
      "source": [
        "#Find duplicates:\n",
        "\n",
        "duplicates = train[train.duplicated()]  # Identify duplicated rows\n",
        "print(duplicates)  # Display duplicate rows, if any"
      ],
      "metadata": {
        "colab": {
          "base_uri": "https://localhost:8080/"
        },
        "id": "mb19UgnISGok",
        "outputId": "27f5f537-d2f7-4147-f05a-b5f4d394575d"
      },
      "execution_count": 9,
      "outputs": [
        {
          "output_type": "stream",
          "name": "stdout",
          "text": [
            "Empty DataFrame\n",
            "Columns: [symboling, normalized-losses, make, fuel-type, aspiration, num-of-doors, body-style, drive-wheels, engine-location, wheel-base, length, width, height, curb-weight, engine-type, num-of-cylinders, engine-size, fuel-system, bore, stroke, compression-ratio, horsepower, peak-rpm, city-mpg, highway-mpg, price]\n",
            "Index: []\n",
            "\n",
            "[0 rows x 26 columns]\n"
          ]
        }
      ]
    },
    {
      "cell_type": "code",
      "source": [
        "train = train.drop_duplicates()  # Remove duplicate rows"
      ],
      "metadata": {
        "id": "fEhGNgebU9dZ"
      },
      "execution_count": 66,
      "outputs": []
    },
    {
      "cell_type": "code",
      "source": [
        "#Replace '?' with NaN and check for missing values:\n",
        "\n",
        "missing_values = train.isnull().sum()  # Count missing values for each column\n",
        "\n",
        "\n",
        "train.replace('?', np.nan, inplace=True)  # Replace all '?' with NaN\n",
        "print(\"Missing values:\\n\", missing_values)  # Display missing values"
      ],
      "metadata": {
        "colab": {
          "base_uri": "https://localhost:8080/"
        },
        "id": "WEMk42HOV7A5",
        "outputId": "fe3e7c25-f649-4cee-caee-ed31f6f96c44"
      },
      "execution_count": 23,
      "outputs": [
        {
          "output_type": "stream",
          "name": "stdout",
          "text": [
            "Missing values:\n",
            " symboling            0\n",
            "normalized-losses    0\n",
            "make                 0\n",
            "fuel-type            0\n",
            "aspiration           0\n",
            "num-of-doors         1\n",
            "body-style           0\n",
            "drive-wheels         0\n",
            "engine-location      0\n",
            "wheel-base           0\n",
            "length               0\n",
            "width                0\n",
            "height               0\n",
            "curb-weight          0\n",
            "engine-type          0\n",
            "num-of-cylinders     0\n",
            "engine-size          0\n",
            "fuel-system          0\n",
            "bore                 0\n",
            "stroke               0\n",
            "compression-ratio    0\n",
            "horsepower           0\n",
            "peak-rpm             0\n",
            "city-mpg             0\n",
            "highway-mpg          0\n",
            "price                0\n",
            "dtype: int64\n"
          ]
        }
      ]
    },
    {
      "cell_type": "code",
      "source": [
        "\n",
        "train.dropna(subset=['price'], inplace=True)  # Remove rows where 'price' is missing"
      ],
      "metadata": {
        "id": "AdPJm6gDWL5r"
      },
      "execution_count": 24,
      "outputs": []
    },
    {
      "cell_type": "code",
      "source": [
        "# 7. Display basic statistics (mean, median)\n",
        "# Display the mean of all numeric columns\n",
        "print(\"Mean of numeric columns:\\n\", train.mean(numeric_only=True))\n",
        "\n"
      ],
      "metadata": {
        "colab": {
          "base_uri": "https://localhost:8080/"
        },
        "id": "E_IdKxXYWsGI",
        "outputId": "1c5988d2-1e31-49e4-8c1a-cc4790eee942"
      },
      "execution_count": 25,
      "outputs": [
        {
          "output_type": "stream",
          "name": "stdout",
          "text": [
            "Mean of numeric columns:\n",
            " symboling                2.000000\n",
            "normalized-losses      144.722222\n",
            "wheel-base              94.033333\n",
            "length                 167.566667\n",
            "width                   64.700000\n",
            "height                  51.233333\n",
            "curb-weight           2358.666667\n",
            "engine-size            112.333333\n",
            "bore                     3.230000\n",
            "stroke                   3.156667\n",
            "compression-ratio        8.866667\n",
            "horsepower             105.000000\n",
            "peak-rpm              5333.333333\n",
            "city-mpg                23.000000\n",
            "highway-mpg             29.000000\n",
            "price                12001.000000\n",
            "dtype: float64\n",
            "Median of numeric columns:\n",
            " symboling                2.00\n",
            "normalized-losses      148.00\n",
            "wheel-base              93.70\n",
            "length                 168.80\n",
            "width                   64.10\n",
            "height                  50.60\n",
            "curb-weight           2337.00\n",
            "engine-size            109.00\n",
            "bore                     3.19\n",
            "stroke                   3.39\n",
            "compression-ratio        9.00\n",
            "horsepower             102.00\n",
            "peak-rpm              5500.00\n",
            "city-mpg                24.00\n",
            "highway-mpg             30.00\n",
            "price                13495.00\n",
            "dtype: float64\n"
          ]
        }
      ]
    },
    {
      "cell_type": "code",
      "source": [
        "# Display the median of all numeric columns\n",
        "print(\"Median of numeric columns:\\n\", train.median(numeric_only=True))"
      ],
      "metadata": {
        "colab": {
          "base_uri": "https://localhost:8080/"
        },
        "id": "mlqDwocfWzYU",
        "outputId": "784f75ea-c3f8-4d28-b982-c1ace90098ec"
      },
      "execution_count": 26,
      "outputs": [
        {
          "output_type": "stream",
          "name": "stdout",
          "text": [
            "Median of numeric columns:\n",
            " symboling                2.00\n",
            "normalized-losses      148.00\n",
            "wheel-base              93.70\n",
            "length                 168.80\n",
            "width                   64.10\n",
            "height                  50.60\n",
            "curb-weight           2337.00\n",
            "engine-size            109.00\n",
            "bore                     3.19\n",
            "stroke                   3.39\n",
            "compression-ratio        9.00\n",
            "horsepower             102.00\n",
            "peak-rpm              5500.00\n",
            "city-mpg                24.00\n",
            "highway-mpg             30.00\n",
            "price                13495.00\n",
            "dtype: float64\n"
          ]
        }
      ]
    },
    {
      "cell_type": "code",
      "source": [
        "#Impute missing values in 'normalized-losses' with the mean:\n",
        "\n",
        "\n",
        "train['normalized-losses'] = pd.to_numeric(train['normalized-losses'], errors='coerce') # Convert 'normalized-losses' column to numeric, coercing errors to NaN\n"
      ],
      "metadata": {
        "id": "ayZ2gz4TXTaR"
      },
      "execution_count": 27,
      "outputs": []
    },
    {
      "cell_type": "code",
      "source": [
        "mean_normalized_losses = train['normalized-losses'].mean()  # Calculate mean\n",
        "train['normalized-losses'].fillna(mean_normalized_losses, inplace=True)  # Fill NaN  with mean"
      ],
      "metadata": {
        "id": "N3uQ9EAFXczU"
      },
      "execution_count": 28,
      "outputs": []
    },
    {
      "cell_type": "code",
      "source": [
        " # Identify outliers in 'normalized-losses' and 'symboling' columns\n",
        "\n",
        "\n",
        "plt.figure(figsize=(12, 6))\n",
        "plt.subplot(1, 2, 1)\n",
        "sns.boxplot(y=train['normalized-losses'])  # Boxplot for 'normalized-losses'\n",
        "plt.subplot(1, 2, 2)\n",
        "sns.boxplot(y=train['symboling'])  # Boxplot for 'symboling'\n",
        "plt.show()"
      ],
      "metadata": {
        "colab": {
          "base_uri": "https://localhost:8080/",
          "height": 431
        },
        "id": "NGTshHX5Xeln",
        "outputId": "cf48d456-9156-44a9-fd63-58847292c685"
      },
      "execution_count": 31,
      "outputs": [
        {
          "output_type": "display_data",
          "data": {
            "text/plain": [
              "<Figure size 1200x600 with 2 Axes>"
            ],
            "image/png": "[encoded data removed]"
          },
          "metadata": {}
        }
      ]
    },
    {
      "cell_type": "code",
      "source": [
        "# Filter rows where 'normalized-losses' is less than 100\n",
        "filtered_data = train[train['normalized-losses'] > 10]\n",
        "filtered_data = train[train['symboling'] < 10]"
      ],
      "metadata": {
        "id": "rJj0CCsgYFUd"
      },
      "execution_count": 62,
      "outputs": []
    },
    {
      "cell_type": "code",
      "source": [
        " # Identify outliers in 'normalized-losses' and 'symboling' columns after filter\n",
        "# Assuming 'filtered_data' contains the filtered DataFrame\n",
        "plt.figure(figsize=(12, 6))\n",
        "\n",
        "# Boxplot for 'normalized-losses'\n",
        "plt.subplot(1, 2, 1)\n",
        "sns.boxplot(y=filtered_data['normalized-losses'])\n",
        "plt.title('Boxplot of Normalized Losses')\n",
        "\n",
        "# Boxplot for 'symboling'\n",
        "plt.subplot(1, 2, 2)\n",
        "sns.boxplot(y=filtered_data['symboling'])\n",
        "plt.title('Boxplot of Symboling')\n",
        "\n",
        "# Show the plot\n",
        "plt.tight_layout()\n",
        "plt.show()"
      ],
      "metadata": {
        "colab": {
          "base_uri": "https://localhost:8080/",
          "height": 442
        },
        "id": "Bib4iYoAZxCZ",
        "outputId": "76846483-2b01-486a-e5c9-5a4955bbf586"
      },
      "execution_count": 61,
      "outputs": [
        {
          "output_type": "display_data",
          "data": {
            "text/plain": [
              "<Figure size 1200x600 with 2 Axes>"
            ],
            "image/png": "[encoded data removed]"
          },
          "metadata": {}
        }
      ]
    },
    {
      "cell_type": "code",
      "source": [
        "train.to_csv('cleaned_automobile_data.csv', index=False)  # Save cleaned data"
      ],
      "metadata": {
        "id": "_1lhB1hjdVTk"
      },
      "execution_count": 63,
      "outputs": []
    }
  ]
}